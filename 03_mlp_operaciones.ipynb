{
 "cells": [
  {
   "cell_type": "markdown",
   "metadata": {},
   "source": [
    "# Operaciones del Perceptrón Multicapa\n",
    "\n",
    "Con el Percetrón Multicapa o Multi-Layer Perceptron (MLP) no solo hay que calcular para varias capas los valores de activación, de error y corrección de los pesos, sino que también se debe tratar con la inclusión y omisión de las unidades umbral en varias operaciones.\n",
    "\n",
    "En esta guía vamos a ver una forma de tratar con estas operaciones en una simple pasada de propagación hacia adelante de los estimulos, propagación hacia atrás de los errores, y sus correspondiente correcciones a los pesos.\n",
    "\n",
    "Empecemos por importar las librerías necesarias y definir las dimensiones del problema. Tendremos **P** instancias de datos, con 2 variables de entrada y 1 objetivo. La arquitectura de red neuronal que vamos a definir usará estas dimensiones en la entrada y salida, además de una capa oculta con 3 unidades. Todo esto los especificaremos en una lista **S** (*sizes*) y, aunque todavía no lo necesitemos, vamos a guardar por conveniencia la cantidad de capas de nuestro modelo en **L** (*layers*)."
   ]
  },
  {
   "cell_type": "code",
   "execution_count": 1,
   "metadata": {},
   "outputs": [],
   "source": [
    "import numpy as num\n",
    "from matplotlib import pyplot as mpl, cm\n",
    "\n",
    "P = 100\n",
    "S = [ 2, 3, 1]\n",
    "L = len(S)"
   ]
  },
  {
   "cell_type": "markdown",
   "metadata": {},
   "source": [
    "Los datos van consistir en valores generados a azar para la entrada y el signo del producto de estas variables como objetivo, de manera que se obtiene un problema que es claramente *no linealmente separable*."
   ]
  },
  {
   "cell_type": "code",
   "execution_count": 2,
   "metadata": {},
   "outputs": [],
   "source": [
    "x = num.random.uniform( -5, 5, (P,S[0]) )\n",
    "z = num.sign( num.prod( x, axis=1).reshape( (P,1) ) )"
   ]
  },
  {
   "cell_type": "code",
   "execution_count": 3,
   "metadata": {},
   "outputs": [
    {
     "data": {
      "image/png": "[encoded data removed]",
      "text/plain": [
       "<Figure size 432x288 with 1 Axes>"
      ]
     },
     "metadata": {
      "needs_background": "light"
     },
     "output_type": "display_data"
    }
   ],
   "source": [
    "mpl.scatter( x[:,0], x[:,1], c=z.flatten(), cmap=cm.rainbow)\n",
    "mpl.show()\n"
   ]
  },
  {
   "cell_type": "markdown",
   "metadata": {},
   "source": [
    "Además como parte de la especificación del modelo vamos a definir unos *arrays* $Y_k$ para guardar los valores de activación de las unidades y $W_k$ para los valores de los pesos de las conexiones, incluyendo en ambos casos la dimesión adicional para los umbrales en donde sea necesario."
   ]
  },
  {
   "cell_type": "code",
   "execution_count": 4,
   "metadata": {},
   "outputs": [],
   "source": [
    "Y0 = num.zeros( (1,S[0]+1) )\n",
    "Y1 = num.zeros( (1,S[1]+1) )\n",
    "Y2 = num.zeros( (1,S[2]) )"
   ]
  },
  {
   "cell_type": "code",
   "execution_count": 5,
   "metadata": {},
   "outputs": [],
   "source": [
    "W1 = num.random.normal( 0, 0.5, (S[0]+1, S[1]))\n",
    "W2 = num.random.normal( 0, 0.5, (S[1]+1, S[2]))\n"
   ]
  },
  {
   "cell_type": "markdown",
   "metadata": {},
   "source": [
    "Y para facilitar las operaciones también vamos a definir dos funciones adicionales que sirvan para agregar las unidades umbrales, es decir concatenar una columna con *-1* a una matriz, y quitar los umbrales, es decir eliminar la última columna de la matriz."
   ]
  },
  {
   "cell_type": "code",
   "execution_count": 6,
   "metadata": {},
   "outputs": [],
   "source": [
    "def bias_add( V):\n",
    "    bias = -num.ones( (len(V),1) )\n",
    "    return num.concatenate( (V,bias), axis=1)\n",
    "\n",
    "def bias_sub( V):\n",
    "    return V[:,:-1]\n"
   ]
  },
  {
   "cell_type": "markdown",
   "metadata": {},
   "source": [
    "Cuando se trabaja con *backpropagation* generalmente hay que tener en cuenta en qué orden se toman los datos por época y cuántos datos se usan por vez para calcular las correcciones a los pesos.\n",
    "\n",
    "En el ejemplo de regresión lineal utilizamos el conjunto de datos entero para calcular las correcciones, esto se llama *aprendizaje por lotes* (*batch*/*off-line*), y en este caso el orden de los datos es indistinto.\n",
    "Pero cuando vimos cómo calcular las correcciones para el perceptrón simple usamos una instancia por vez, esto se llama *aprendizaje incremental* (*incremental*/*on-line*), y aquí recorrer las instancias en un orden aleatorio suele incrementar las chances de converger a una buena solución.\n",
    "\n",
    "Sin embargo quizás la mejor solución es un compromiso entra ambas técnicas llama *mini-lotes* (*mini-batch*) en donde se eligen al azar porciones relativamente chicas de los datos y se los utiliza para calcular las correcciones a los pesos. Estos mini-lotes pueden verse también como una generalización, en donde el caso **1** es igual al *incremental*, y **P** igual a *lotes*.\n",
    "\n",
    "De momento solo vamos a considerar mini-lotes de una sola instancia, es decir equivalente al *incremental*, y para esto vamos a definir una variable **B = 1**.\n",
    "Para recorrer las instancias en orden aleatorio sin repetición durante una época vamos a usar *permutation*, de donde elegiremos una instancia *h*."
   ]
  },
  {
   "cell_type": "code",
   "execution_count": 7,
   "metadata": {},
   "outputs": [],
   "source": [
    "B = 1\n",
    "H = num.random.permutation(P)\n",
    "h = H[0]\n",
    "\n",
    "Xh = x[h:h+B]\n",
    "Zh = z[h:h+B]"
   ]
  },
  {
   "cell_type": "markdown",
   "metadata": {},
   "source": [
    "Antes de empezar con el entrenamiento vamos a necesitar un *coeficiente de aprendizaje* o *learning rate* (*lr*), y una variable en donde ir acumulando el *error* por época."
   ]
  },
  {
   "cell_type": "code",
   "execution_count": 8,
   "metadata": {},
   "outputs": [],
   "source": [
    "lr = 0.1\n",
    "error = 0.0"
   ]
  },
  {
   "cell_type": "markdown",
   "metadata": {},
   "source": [
    "El primer paso es propagar los estímulos hacia adelante, calculando los niveles de activación de las neuronas en cada capa. En la capa de entrada tenemos que copiar el patrón de entrada, y en esta como en las capas sucesivas (excepto en la de salida), debemos agregar las unidades umbral correspondientes.\n",
    "\n",
    "Hacer la asignación a **Yk[:]** en lugar de sencillamente a **Yk** hace que los valores resultantes de la operación en la parte derecha se copien al *array* que definimos previamente. Esta es una forma de asegurarse que al menos el resultado de la operación tiene las dimensiones que esperabamos.\n"
   ]
  },
  {
   "cell_type": "code",
   "execution_count": 9,
   "metadata": {},
   "outputs": [],
   "source": [
    "Y0[:] = bias_add( Xh)\n",
    "Y1[:] = bias_add( num.tanh( num.dot( Y0, W1)))\n",
    "Y2[:] = num.tanh( num.dot( Y1, W2))"
   ]
  },
  {
   "cell_type": "markdown",
   "metadata": {},
   "source": [
    "También vamos a necesitar unos *arrays* para guardar los calculos de las correcciones. Como sabemos que estos van a tener la misma dimesión que los pesos **W** podemos usar la función *zeros_like*."
   ]
  },
  {
   "cell_type": "code",
   "execution_count": 10,
   "metadata": {},
   "outputs": [],
   "source": [
    "dW1 = num.zeros_like( W1)\n",
    "dW2 = num.zeros_like( W2)"
   ]
  },
  {
   "cell_type": "markdown",
   "metadata": {},
   "source": [
    "Un últimos elemento que necesitamos es la derivada de la función de transferencia.\n",
    "Si se está utilizando una función sigmoidea como en este caso, es posible calcular la derivada utilizando la misma función de activación.\n",
    "Para el caso de $f(x)=tanh(x)$ la derivada se puede calcular como $f'(x)=1-f^2(x)$.\n",
    "\n",
    "Con esto ya podemos calcular los *deltas* que necesitamos para las correcciones de los pesos en la capa de salida."
   ]
  },
  {
   "cell_type": "code",
   "execution_count": 11,
   "metadata": {},
   "outputs": [],
   "source": [
    "E2 = Zh-Y2\n",
    "dY2 = 1-num.square(Y2)\n",
    "D2 = E2*dY2"
   ]
  },
  {
   "cell_type": "code",
   "execution_count": 12,
   "metadata": {},
   "outputs": [],
   "source": [
    "dW2 += lr * num.dot( Y1.T, D2)"
   ]
  },
  {
   "cell_type": "markdown",
   "metadata": {},
   "source": [
    "Para calcular las correcciones de la capa oculta es la misma operación pero con dos diferencias.\n",
    "\n",
    "- Los errores van a ser retro-propagados de la capa posterior.\n",
    "- Se debe eliminar la dimensión extra en los *deltas* correspondiente a la unidad umbral."
   ]
  },
  {
   "cell_type": "code",
   "execution_count": 13,
   "metadata": {},
   "outputs": [],
   "source": [
    "E1 = num.dot( D2, W2.T)\n",
    "dY1 = 1-num.square(Y1)\n",
    "D1 = bias_sub( E1*dY1)"
   ]
  },
  {
   "cell_type": "code",
   "execution_count": 14,
   "metadata": {},
   "outputs": [],
   "source": [
    "dW1 += lr * num.dot( Y0.T, D1)"
   ]
  },
  {
   "cell_type": "markdown",
   "metadata": {},
   "source": [
    "Finalmente podemos actualizar los pesos con las correcciones y calcular la estimación del error.\n",
    "\n",
    "Especificamente la expresión general del error es el promedio por lote de la suma de las diferencias cuadradas entre la respuesta deseada y la obtenida para todas las unidades de salida."
   ]
  },
  {
   "cell_type": "code",
   "execution_count": 15,
   "metadata": {},
   "outputs": [],
   "source": [
    "W1 += dW1\n",
    "W2 += dW2"
   ]
  },
  {
   "cell_type": "code",
   "execution_count": 16,
   "metadata": {},
   "outputs": [],
   "source": [
    "error += num.mean( num.sum( num.square( Zh-Y2), axis=1))"
   ]
  }
 ],
 "metadata": {
  "kernelspec": {
   "display_name": "Python 3",
   "language": "python",
   "name": "python3"
  },
  "language_info": {
   "codemirror_mode": {
    "name": "ipython",
    "version": 3
   },
   "file_extension": ".py",
   "mimetype": "text/x-python",
   "name": "python",
   "nbconvert_exporter": "python",
   "pygments_lexer": "ipython3",
   "version": "3.8.2"
  }
 },
 "nbformat": 4,
 "nbformat_minor": 4
}
