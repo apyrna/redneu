{
 "cells": [
  {
   "cell_type": "markdown",
   "metadata": {},
   "source": [
    "# Regresión Lineal\n",
    "\n",
    "Un modelo sencillo como el de regresión lineal nos va a servir de base y para empezar a ver como implementar un modelo matemático en código.\n",
    "\n",
    "El problema puede ser descripto por un conjunto de datos $\\{x_{i1},x_{i2},...,x_{iN},z_i\\}_{i=1}^P$, en donde cada $z_i$ de los $P$ conocidos son el resultado de una combinación lineal de $N$ variables $x$ con $N+1$ valores $a$ que no conocemos.\n",
    "\n",
    "$$z_i = a_1 x_{i1} + a_2 x_{i2} + ... + a_N x_{iN} + a_{N+1}$$\n",
    "\n",
    "El objetivo va a ser utilizar los $x$ y $z$ que conocemos para encontrar una aproximación $w$ a los valores $a$ desconocidos. Y para hacer el problema un poco más interesante vamos a asumir que tenemos $M$ valores de $z$ por instancia resultantes de distintos $a$, es decir nuestro conjunto de datos será $\\{x_{i1},...,x_{iN},z_{1i},...,z_{Mi}\\}_{i=1}^P$.\n",
    "\n",
    "Y bajo estas condiciones podemos pensar en $a$ como una matriz de $N+1$ por $M$."
   ]
  },
  {
   "cell_type": "code",
   "execution_count": 1,
   "metadata": {},
   "outputs": [],
   "source": [
    "# Empecemos por importar la librería numpy que nos va a ayudar con las operaciones algebráicas.\n",
    "\n",
    "import numpy as num"
   ]
  },
  {
   "cell_type": "code",
   "execution_count": 2,
   "metadata": {},
   "outputs": [],
   "source": [
    "# Y establezcamos las dimensiones de los datos que vamos a utilizar.\n",
    "\n",
    "N = 4\n",
    "M = 2\n",
    "P = 100"
   ]
  },
  {
   "cell_type": "code",
   "execution_count": 3,
   "metadata": {},
   "outputs": [
    {
     "name": "stdout",
     "output_type": "stream",
     "text": [
      "[[ 0.54362889  2.74552522  6.53552448  1.12986878  1.        ]\n",
      " [ 6.67959745 -6.049644   -8.14060442 -3.68157569  1.        ]\n",
      " [-6.8111973  -2.47899491  4.33572297 -3.7493281   1.        ]\n",
      " [-4.5964805  -8.64516663  5.70941129 -4.23871697  1.        ]\n",
      " [ 3.39267301 -0.37644501  0.1350543  -7.22650565  1.        ]]\n"
     ]
    }
   ],
   "source": [
    "# Vamos a tener que generar nuestros propios datos al azar para el problema.\n",
    "\n",
    "# Primero vamos a necesitar una matriz de mezcla para la combinación lineal.\n",
    "a = num.random.uniform( -1, 1, (N+1,M))\n",
    "\n",
    "# Y los valores x de entrada con una columna extra que podremos en 1.\n",
    "x = num.random.uniform( -9, 9, (P,N+1))\n",
    "x[:,-1] = 1    # Esto indica que a todas las filas ':', en la última columna '-1', le asigne el valor '1'.\n",
    "\n",
    "print( x[:5])  # Veamos las primeras 5 filas de x."
   ]
  },
  {
   "cell_type": "code",
   "execution_count": 4,
   "metadata": {},
   "outputs": [],
   "source": [
    "# Con esto podemos generar Z facilmente como en producto entre X y A.\n",
    "\n",
    "z = num.dot( x, a)"
   ]
  },
  {
   "cell_type": "code",
   "execution_count": 5,
   "metadata": {},
   "outputs": [],
   "source": [
    "# Nuestro modelo va a consistir en la matriz W inicializada también al azar con valores pequeños.\n",
    "\n",
    "w = num.random.normal( 0, 0.1, (N+1,M))"
   ]
  },
  {
   "cell_type": "markdown",
   "metadata": {},
   "source": [
    "El proceso de aprendizaje, es decir, encontrar un $w$ que *explique* suficientemente bien los $z$ dados los $x$, lo vamos a realizar iterativamente de la siguiente manera.\n",
    "\n",
    "1. Generar una respuesta $y$ del modelo: $$y = x\\bullet w$$\n",
    "2. Calcular la diferencia entre la respuesta deseada y la obtenida: $$ d = z-y $$\n",
    "3. Usar esta diferencia para calcular las correcciones a $w$: $$ \\triangle w = x^T \\bullet d $$\n",
    "4. Aplicar estas correcciones en intervalos pequeños: $$ w = w + \\eta \\triangle w $$\n",
    "5. Si el error es muy alto volver al paso 1: $$ (\\sum d^2) > \\epsilon $$\n",
    "\n",
    "Las correcciones $\\triangle w$ consisten en una matriz de las mismas dimensiones que $w$ en donde cada valor será proporcional al valor de entrada $x$ y el error $z-y$ cometido en la salida.\n",
    "\n",
    "$$ \\triangle w_{ij} = x_i \\dot (z_j - y_j) $$\n",
    "\n",
    "El valor $\\eta$ es el llamado *coeficiente de aprendizaje* o *learning rate*, generalmente elegido como un valor pequeño, para que las correcciones se apliquen gradualmente.\n",
    "\n",
    "Como no siempre vamos a estar seguros de poder encontrar una buena solución, vamos a incluir un término extra a la condición de finalización del algoritmo. Este será de un valor *t* que permitirá detener el proceso después de una cierta candidad de pasos.\n",
    " "
   ]
  },
  {
   "cell_type": "code",
   "execution_count": 6,
   "metadata": {},
   "outputs": [
    {
     "name": "stdout",
     "output_type": "stream",
     "text": [
      "100 0.23853621543726952\n",
      "200 0.01878685322634201\n",
      "300 0.01325882122251105\n",
      "400 0.01086028420217652\n"
     ]
    }
   ],
   "source": [
    "lr = 1e-5\n",
    "E = []\n",
    "e = 1\n",
    "t = 0\n",
    "while (e>0.01) and (t<999):\n",
    "    y = num.dot( x, w)\n",
    "    d = z-y\n",
    "    dw = lr*num.dot( x.T, d)\n",
    "    w += dw\n",
    "    e = num.mean( num.square( d))\n",
    "    E.append( e)\n",
    "    t += 1\n",
    "    if t%100==0:\n",
    "        print( t, e)"
   ]
  },
  {
   "cell_type": "code",
   "execution_count": 7,
   "metadata": {},
   "outputs": [
    {
     "data": {
      "image/png": "[encoded data removed]",
      "text/plain": [
       "<Figure size 432x288 with 1 Axes>"
      ]
     },
     "metadata": {
      "needs_background": "light"
     },
     "output_type": "display_data"
    }
   ],
   "source": [
    "# Finalmente podemos graficar la evolución del error durante el entrenamiento.\n",
    "\n",
    "from matplotlib import pyplot as mpl\n",
    "\n",
    "mpl.plot(E,'r')\n",
    "mpl.show()"
   ]
  },
  {
   "cell_type": "markdown",
   "metadata": {},
   "source": [
    "\n",
    "Este sencillo ejemplo es una simplificación de la técnica de regresión lineal y tiene como objetivo ilustrar el uso de las herramientas de programación que vamos a utilizar más adelante.\n",
    "\n",
    "[Para profundizar más sobre el tema.](https://es.wikipedia.org/wiki/Regresi%C3%B3n_lineal)\n"
   ]
  }
 ],
 "metadata": {
  "kernelspec": {
   "display_name": "Python 3",
   "language": "python",
   "name": "python3"
  },
  "language_info": {
   "codemirror_mode": {
    "name": "ipython",
    "version": 3
   },
   "file_extension": ".py",
   "mimetype": "text/x-python",
   "name": "python",
   "nbconvert_exporter": "python",
   "pygments_lexer": "ipython3",
   "version": "3.8.2"
  }
 },
 "nbformat": 4,
 "nbformat_minor": 4
}
