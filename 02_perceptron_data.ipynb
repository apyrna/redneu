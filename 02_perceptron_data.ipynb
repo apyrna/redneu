{
 "cells": [
  {
   "cell_type": "markdown",
   "metadata": {},
   "source": [
    "# Datos para el Perceptrón\n",
    "\n",
    "Para que puedan probar la implementación del perceptrón van a necesitar datos. Vamos a ver cómo generar conjuntos de datos al azar y para los problemas de la práctica.\n",
    "\n",
    "Empezamos por importar las librerías y módulos que venimos usando, esta vez con el agregado de *cm* que son los colormaps de matplotlib."
   ]
  },
  {
   "cell_type": "code",
   "execution_count": 1,
   "metadata": {},
   "outputs": [],
   "source": [
    "import numpy as num\n",
    "from matplotlib import pyplot as mpl, cm"
   ]
  },
  {
   "cell_type": "code",
   "execution_count": 2,
   "metadata": {},
   "outputs": [],
   "source": [
    "# Especificamos las dimensiones de los datos.\n",
    "\n",
    "N = 5       # N variables de entrada.\n",
    "M = 3       # M variables objetivo.\n",
    "P = 20      # P instancias."
   ]
  },
  {
   "cell_type": "markdown",
   "metadata": {},
   "source": [
    "Los datos de entrada serán aleatorios con distribución uniforme entre -9 y 9.\n",
    "Con la función *concatenate* podemos agregar una columna de *unos* que servirán como unidades umbral. Notar que es indistinto que las unidades umbrales valgan +1 o -1, ya que solo es necesario cambiar el signo del valor umbral.\n",
    "Los valores objetivo serán generados tomando el *signo* de una combinación lineal de las variables de entrada producida por una matriz de mezcla *m*, también generada al azar."
   ]
  },
  {
   "cell_type": "code",
   "execution_count": 3,
   "metadata": {},
   "outputs": [],
   "source": [
    "x = num.random.uniform( -9, 9, (P,N))\n",
    "xp = num.concatenate( ( x, num.ones((P,1)) ), axis=1)\n",
    "\n",
    "m = num.random.normal( 0, 1, (N+1,M))\n",
    "\n",
    "z = num.sign(num.dot( xp, m))"
   ]
  },
  {
   "cell_type": "markdown",
   "metadata": {},
   "source": [
    "Los datos se pueden visualizar en una figura con 2 subplots. (__[ver documentación](https://matplotlib.org/3.2.1/api/_as_gen/matplotlib.figure.Figure.html?highlight=add_subplot#matplotlib.figure.Figure.add_subplot)__)\n",
    "\n",
    "Para mostrar los valores de las matrices en escala de gris se puede usar el mapa de color *cm.gray*."
   ]
  },
  {
   "cell_type": "code",
   "execution_count": 4,
   "metadata": {},
   "outputs": [
    {
     "data": {
      "image/png": "[encoded data removed]",
      "text/plain": [
       "<Figure size 432x288 with 2 Axes>"
      ]
     },
     "metadata": {
      "needs_background": "light"
     },
     "output_type": "display_data"
    }
   ],
   "source": [
    "fig = mpl.figure()\n",
    "xfig = fig.add_subplot(1,2,1, xticklabels=[], yticklabels=[])\n",
    "zfig = fig.add_subplot(1,2,2, xticklabels=[], yticklabels=[])\n",
    "\n",
    "xfig.matshow( x, cmap=cm.gray)\n",
    "zfig.matshow( z, cmap=cm.gray)\n",
    "\n",
    "mpl.show()"
   ]
  },
  {
   "cell_type": "markdown",
   "metadata": {},
   "source": [
    "# Funciones Lógicas\n",
    "\n",
    "En el problema de las funciones lógicas **AND** y **OR** la entrada deberá consistir en todas las combinaciones de valores de verdad de 2 variables booleanas. Expresando **Falso** con -1 y **Verdadero** con +1 se pueden escribir fácilmente a mano.\n",
    "\n",
    "Los datos objetivo también tendrán 2 variables, la primera con el resultado del operador **AND** y la segunda del **OR**, y también se pueden armar a mano."
   ]
  },
  {
   "cell_type": "code",
   "execution_count": 5,
   "metadata": {},
   "outputs": [],
   "source": [
    "logic_input = num.array( [ [ -1, -1 ],\n",
    "                           [ -1, +1 ],\n",
    "                           [ +1, -1 ],\n",
    "                           [ +1, +1 ] ] )\n",
    "\n",
    "logic_target = num.array( [ [ -1, -1 ],\n",
    "                            [ -1, +1 ],\n",
    "                            [ -1, +1 ],\n",
    "                            [ +1, +1 ] ] )"
   ]
  },
  {
   "cell_type": "markdown",
   "metadata": {},
   "source": [
    "# OCR\n",
    "\n",
    "Para el problema de reconocimiento de caracteres tienen un archivo de texto con un ejemplo de cómo especificar las letras en una matriz de 5x5.\n",
    "Este archivo se puede levantar con la función *loadtxt* de *numpy*, pero el resultado directo es un arreglo de 130 filas por 5 columnas, es decir, todas las letras apiladas en una sola matriz.\n",
    "\n",
    "Para visualizarlas se puede hacer un *reshape* de 26x5x5, esto es, 26 letras en grillas de 5x5.\n",
    "\n",
    "Pero para poder pasarle estos datos al perceptrón como entrada debemos expresar cada letra cómo un vector de 5\\*5, es decir, los datos tendrán una dimensión de 26x25.\n",
    "\n",
    "Y para convertir los valores binarios (0,1) a bipolares (-1,+1) sencillamente multiplicamos por 2 y restamos 1."
   ]
  },
  {
   "cell_type": "code",
   "execution_count": 6,
   "metadata": {},
   "outputs": [
    {
     "data": {
      "text/plain": [
       "(130, 5)"
      ]
     },
     "execution_count": 6,
     "metadata": {},
     "output_type": "execute_result"
    }
   ],
   "source": [
    "letras = num.loadtxt(\"letras.txt\")\n",
    "\n",
    "letras.shape"
   ]
  },
  {
   "cell_type": "code",
   "execution_count": 7,
   "metadata": {},
   "outputs": [
    {
     "data": {
      "text/plain": [
       "<matplotlib.image.AxesImage at 0x7f7e2b778a30>"
      ]
     },
     "execution_count": 7,
     "metadata": {},
     "output_type": "execute_result"
    },
    {
     "data": {
      "image/png": "[encoded data removed]",
      "text/plain": [
       "<Figure size 288x288 with 1 Axes>"
      ]
     },
     "metadata": {
      "needs_background": "light"
     },
     "output_type": "display_data"
    }
   ],
   "source": [
    "L = letras.reshape((26,5,5))\n",
    "\n",
    "mpl.matshow( L[14])"
   ]
  },
  {
   "cell_type": "code",
   "execution_count": 8,
   "metadata": {},
   "outputs": [
    {
     "data": {
      "text/plain": [
       "<matplotlib.image.AxesImage at 0x7f7e2b74eee0>"
      ]
     },
     "execution_count": 8,
     "metadata": {},
     "output_type": "execute_result"
    },
    {
     "data": {
      "image/png": "[encoded data removed]",
      "text/plain": [
       "<Figure size 288x288 with 1 Axes>"
      ]
     },
     "metadata": {
      "needs_background": "light"
     },
     "output_type": "display_data"
    }
   ],
   "source": [
    "mpl.matshow( L[10])"
   ]
  },
  {
   "cell_type": "code",
   "execution_count": 9,
   "metadata": {},
   "outputs": [
    {
     "data": {
      "text/plain": [
       "array([[-1., -1.,  1., -1., -1., -1.,  1., -1.,  1., -1.,  1.,  1.,  1.,\n",
       "         1.,  1.,  1., -1., -1., -1.,  1.,  1., -1., -1., -1.,  1.],\n",
       "       [ 1.,  1.,  1., -1., -1.,  1., -1., -1.,  1., -1.,  1.,  1.,  1.,\n",
       "         1., -1.,  1., -1., -1., -1.,  1.,  1.,  1.,  1.,  1., -1.],\n",
       "       [-1.,  1.,  1.,  1., -1.,  1., -1., -1., -1.,  1.,  1., -1., -1.,\n",
       "        -1., -1.,  1., -1., -1., -1.,  1., -1.,  1.,  1.,  1., -1.],\n",
       "       [ 1.,  1.,  1., -1., -1.,  1., -1., -1.,  1., -1.,  1., -1., -1.,\n",
       "        -1.,  1.,  1., -1., -1., -1.,  1.,  1.,  1.,  1.,  1., -1.],\n",
       "       [ 1.,  1.,  1.,  1.,  1.,  1., -1., -1., -1., -1.,  1.,  1.,  1.,\n",
       "         1., -1.,  1., -1., -1., -1., -1.,  1.,  1.,  1.,  1.,  1.]])"
      ]
     },
     "execution_count": 9,
     "metadata": {},
     "output_type": "execute_result"
    }
   ],
   "source": [
    "x = letras.reshape((26,25))*2-1\n",
    "\n",
    "x[:5]"
   ]
  },
  {
   "cell_type": "markdown",
   "metadata": {},
   "source": [
    "Para generar los datos objetivo puede resultar útil usar la función *product* de la librería de herramientas de iteración. Esta función nos permite generar todas las combinaciones posibles de *repeat* valores pasados como parámetro. \n",
    "(__[ver documentación](https://docs.python.org/2/library/itertools.html#itertools.product)__)\n",
    "\n",
    "Para elegir 26 al azar sin repetición se puede usar la función *permutation*."
   ]
  },
  {
   "cell_type": "code",
   "execution_count": 10,
   "metadata": {},
   "outputs": [
    {
     "name": "stdout",
     "output_type": "stream",
     "text": [
      "[[-1 -1]\n",
      " [-1  1]\n",
      " [ 1 -1]\n",
      " [ 1  1]]\n"
     ]
    }
   ],
   "source": [
    "import itertools\n",
    "\n",
    "z = list( itertools.product( [-1,1], repeat=2))\n",
    "\n",
    "print( num.array(z))"
   ]
  },
  {
   "cell_type": "code",
   "execution_count": 11,
   "metadata": {},
   "outputs": [
    {
     "data": {
      "text/plain": [
       "array([0, 5, 6, 1, 3, 7, 2, 4, 9, 8])"
      ]
     },
     "execution_count": 11,
     "metadata": {},
     "output_type": "execute_result"
    }
   ],
   "source": [
    "num.random.permutation(10)"
   ]
  },
  {
   "cell_type": "code",
   "execution_count": 12,
   "metadata": {},
   "outputs": [
    {
     "data": {
      "text/plain": [
       "array([[-1, -1],\n",
       "       [-1,  1],\n",
       "       [ 1,  1],\n",
       "       [ 1, -1]])"
      ]
     },
     "execution_count": 12,
     "metadata": {},
     "output_type": "execute_result"
    }
   ],
   "source": [
    "num.random.permutation( z)"
   ]
  },
  {
   "cell_type": "markdown",
   "metadata": {},
   "source": [
    "---\n",
    "Tengan especial cuidado con las dimensiones de los arreglos, sobre todo al hacer operaciones y guardar los resultados.\n",
    "\n",
    "Por ejemplo, planteando las siguientes operaciones, de una forma funcionan de la manera esperada y de la otra no.\n",
    "\n",
    "Les dejo que investiguen por qué ocurre esto en cada caso."
   ]
  },
  {
   "cell_type": "code",
   "execution_count": 13,
   "metadata": {},
   "outputs": [],
   "source": [
    "x = num.random.uniform( -1, 1, (10,4))\n",
    "z = num.random.uniform( 0, 1, (10,3))\n",
    "\n",
    "w = num.random.normal( 0, 1, (4,3))\n",
    "\n",
    "y = num.dot(x,w)\n",
    "e = z-y"
   ]
  },
  {
   "cell_type": "code",
   "execution_count": 14,
   "metadata": {},
   "outputs": [
    {
     "ename": "ValueError",
     "evalue": "shapes (4,) and (3,) not aligned: 4 (dim 0) != 3 (dim 0)",
     "output_type": "error",
     "traceback": [
      "\u001b[0;31m---------------------------------------------------------------------------\u001b[0m",
      "\u001b[0;31mValueError\u001b[0m                                Traceback (most recent call last)",
      "\u001b[0;32m<ipython-input-14-bf3075cab69d>\u001b[0m in \u001b[0;36m<module>\u001b[0;34m\u001b[0m\n\u001b[1;32m      1\u001b[0m \u001b[0my0\u001b[0m \u001b[0;34m=\u001b[0m \u001b[0mnum\u001b[0m\u001b[0;34m.\u001b[0m\u001b[0mdot\u001b[0m\u001b[0;34m(\u001b[0m \u001b[0mx\u001b[0m\u001b[0;34m[\u001b[0m\u001b[0;36m0\u001b[0m\u001b[0;34m]\u001b[0m\u001b[0;34m,\u001b[0m \u001b[0mw\u001b[0m\u001b[0;34m)\u001b[0m\u001b[0;34m\u001b[0m\u001b[0;34m\u001b[0m\u001b[0m\n\u001b[1;32m      2\u001b[0m \u001b[0me0\u001b[0m \u001b[0;34m=\u001b[0m \u001b[0mz\u001b[0m\u001b[0;34m[\u001b[0m\u001b[0;36m0\u001b[0m\u001b[0;34m]\u001b[0m\u001b[0;34m-\u001b[0m\u001b[0my0\u001b[0m\u001b[0;34m\u001b[0m\u001b[0;34m\u001b[0m\u001b[0m\n\u001b[0;32m----> 3\u001b[0;31m \u001b[0mnum\u001b[0m\u001b[0;34m.\u001b[0m\u001b[0mdot\u001b[0m\u001b[0;34m(\u001b[0m \u001b[0mx\u001b[0m\u001b[0;34m[\u001b[0m\u001b[0;36m0\u001b[0m\u001b[0;34m]\u001b[0m\u001b[0;34m.\u001b[0m\u001b[0mT\u001b[0m\u001b[0;34m,\u001b[0m \u001b[0me0\u001b[0m\u001b[0;34m)\u001b[0m\u001b[0;34m\u001b[0m\u001b[0;34m\u001b[0m\u001b[0m\n\u001b[0m",
      "\u001b[0;32m<__array_function__ internals>\u001b[0m in \u001b[0;36mdot\u001b[0;34m(*args, **kwargs)\u001b[0m\n",
      "\u001b[0;31mValueError\u001b[0m: shapes (4,) and (3,) not aligned: 4 (dim 0) != 3 (dim 0)"
     ]
    }
   ],
   "source": [
    "y0 = num.dot( x[0], w)\n",
    "e0 = z[0]-y0\n",
    "num.dot( x[0].T, e0)"
   ]
  },
  {
   "cell_type": "code",
   "execution_count": 15,
   "metadata": {},
   "outputs": [
    {
     "data": {
      "text/plain": [
       "array([[-0.90462492,  0.29707552,  0.23519339],\n",
       "       [-1.44211941,  0.47358674,  0.37493655],\n",
       "       [-0.26292679,  0.0863442 ,  0.06835832],\n",
       "       [-0.54465912,  0.17886406,  0.1416059 ]])"
      ]
     },
     "execution_count": 15,
     "metadata": {},
     "output_type": "execute_result"
    }
   ],
   "source": [
    "num.outer( x[0], e0)"
   ]
  }
 ],
 "metadata": {
  "kernelspec": {
   "display_name": "Python 3",
   "language": "python",
   "name": "python3"
  },
  "language_info": {
   "codemirror_mode": {
    "name": "ipython",
    "version": 3
   },
   "file_extension": ".py",
   "mimetype": "text/x-python",
   "name": "python",
   "nbconvert_exporter": "python",
   "pygments_lexer": "ipython3",
   "version": "3.8.2"
  }
 },
 "nbformat": 4,
 "nbformat_minor": 4
}
