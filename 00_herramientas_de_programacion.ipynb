{
 "cells": [
  {
   "cell_type": "markdown",
   "metadata": {},
   "source": [
    "# Herramientas de Programación\n",
    "\n",
    "Uno de los principales motivos por los que las redes neuronales pueden ser implementadas eficientemente como algoritmos es que la mayoría de las operaciones, tanto para la activación como para el aprendizaje, pueden ser expresadas como operaciones matriciales. El objetivo de esta parte es ver algunos de los métodos para realizar estas operaciones y otras cosas que pueden resultar útiles al momento de implementar los algoritmos y evaluar su desempeño.\n",
    "\n",
    "Para la implementación de los algoritmos vamos a usar el lenguaje de programación python, no solo porque es ampliamente utilizado en esta disciplina, sino porque es sencillo pero potente, y fácilmente accesible para todos, además de contar con una gran cantidad de librerías y ejemplos para todo tipo de aplicaciones en general.\n",
    "\n",
    "Esto, sin embargo, no pretende ser ni una introducción ni un tutorial de python, sino más bien una guía de las herramientas que vamos a utilizar, con especial énfasis en algunas idiosincrasias particulares del lenguaje que comúnmente suelen causar problemas o confusión."
   ]
  },
  {
   "cell_type": "markdown",
   "metadata": {},
   "source": [
    "## Tipos nativos de python\n",
    "\n",
    "Dijimos que una de las principales ventajas era poder expresar las operaciones como operaciones de matrices, sin embargo en python no tenemos como un tipo de dato nativo el tipo matriz, los tipos de datos con los que contamos son tupla y lista."
   ]
  },
  {
   "cell_type": "code",
   "execution_count": 1,
   "metadata": {},
   "outputs": [
    {
     "name": "stdout",
     "output_type": "stream",
     "text": [
      "(3, 5)\n"
     ]
    }
   ],
   "source": [
    "# Las tuplas se definen como valores separados por comas encerrados entre paréntesis.\n",
    "\n",
    "a = (3,5)\n",
    "print(a)"
   ]
  },
  {
   "cell_type": "code",
   "execution_count": 2,
   "metadata": {},
   "outputs": [
    {
     "data": {
      "text/plain": [
       "3"
      ]
     },
     "execution_count": 2,
     "metadata": {},
     "output_type": "execute_result"
    }
   ],
   "source": [
    "# Los valores dentro de una tupla pueden ser accedidos mediante un índice entre corchetes. \n",
    "# El primer elemento tiene índice 0.\n",
    "\n",
    "a[0]"
   ]
  },
  {
   "cell_type": "code",
   "execution_count": 3,
   "metadata": {},
   "outputs": [
    {
     "ename": "TypeError",
     "evalue": "'tuple' object does not support item assignment",
     "output_type": "error",
     "traceback": [
      "\u001b[0;31m---------------------------------------------------------------------------\u001b[0m",
      "\u001b[0;31mTypeError\u001b[0m                                 Traceback (most recent call last)",
      "\u001b[0;32m<ipython-input-3-048d7c0016b8>\u001b[0m in \u001b[0;36m<module>\u001b[0;34m\u001b[0m\n\u001b[1;32m      1\u001b[0m \u001b[0;31m# Sin embargo la tupla es un tipo inmutable, por lo tanto no es posible modificarla una vez definida.\u001b[0m\u001b[0;34m\u001b[0m\u001b[0;34m\u001b[0m\u001b[0;34m\u001b[0m\u001b[0m\n\u001b[1;32m      2\u001b[0m \u001b[0;34m\u001b[0m\u001b[0m\n\u001b[0;32m----> 3\u001b[0;31m \u001b[0ma\u001b[0m\u001b[0;34m[\u001b[0m\u001b[0;36m0\u001b[0m\u001b[0;34m]\u001b[0m \u001b[0;34m=\u001b[0m \u001b[0;36m1\u001b[0m\u001b[0;34m\u001b[0m\u001b[0;34m\u001b[0m\u001b[0m\n\u001b[0m",
      "\u001b[0;31mTypeError\u001b[0m: 'tuple' object does not support item assignment"
     ]
    }
   ],
   "source": [
    "# Sin embargo la tupla es un tipo inmutable, por lo tanto no es posible modificarla una vez definida.\n",
    "\n",
    "a[0] = 1"
   ]
  },
  {
   "cell_type": "code",
   "execution_count": 4,
   "metadata": {},
   "outputs": [],
   "source": [
    "# Una lista se define como valores separados por comas encerrados entre corchetes.\n",
    "\n",
    "b = [5,7]"
   ]
  },
  {
   "cell_type": "code",
   "execution_count": 5,
   "metadata": {},
   "outputs": [
    {
     "data": {
      "text/plain": [
       "5"
      ]
     },
     "execution_count": 5,
     "metadata": {},
     "output_type": "execute_result"
    }
   ],
   "source": [
    "# Los valores de una lista pueden ser accedidos de la misma forma que con las tuplas.\n",
    "\n",
    "b[0]"
   ]
  },
  {
   "cell_type": "code",
   "execution_count": 6,
   "metadata": {},
   "outputs": [
    {
     "name": "stdout",
     "output_type": "stream",
     "text": [
      "[5, 9]\n"
     ]
    }
   ],
   "source": [
    "# Ahora si es posible modificar una lista una vez definida.\n",
    "\n",
    "b[1] = 9\n",
    "print(b)"
   ]
  },
  {
   "cell_type": "code",
   "execution_count": 7,
   "metadata": {},
   "outputs": [
    {
     "data": {
      "text/plain": [
       "[2, 5, 9, 3]"
      ]
     },
     "execution_count": 7,
     "metadata": {},
     "output_type": "execute_result"
    }
   ],
   "source": [
    "# No solo es posible cambiar los valores dentro de la lista sino que también es posible modficar la lista.\n",
    "\n",
    "b.append( 3)      # Agrega un valor al final.\n",
    "b.insert( 0, 2)   # Agrega el valor 2 en la posición 0.\n",
    "b"
   ]
  },
  {
   "cell_type": "code",
   "execution_count": 8,
   "metadata": {},
   "outputs": [
    {
     "data": {
      "text/plain": [
       "[2, 3]"
      ]
     },
     "execution_count": 8,
     "metadata": {},
     "output_type": "execute_result"
    }
   ],
   "source": [
    "b.remove(9)       # Remueve el elemento con el valor 9 de la lista.\n",
    "del b[1]          # Borra el valor en la posición 1.\n",
    "b"
   ]
  },
  {
   "cell_type": "code",
   "execution_count": 9,
   "metadata": {},
   "outputs": [
    {
     "data": {
      "text/plain": [
       "2"
      ]
     },
     "execution_count": 9,
     "metadata": {},
     "output_type": "execute_result"
    }
   ],
   "source": [
    "# Notar que la lista es un objeto que posee el método insert para agregar elementos en una posición. \n",
    "# Sin embargo no existe un método propio de la clase lista para eliminarlos, para eso usamos la función \"del\".\n",
    "# Lo mismo sucede para ver que cantidad de elementos tiene una lista.\n",
    "\n",
    "# b.len()  No existe.\n",
    "\n",
    "len(b)   # En su lugar usamos la función \"len\"."
   ]
  },
  {
   "cell_type": "code",
   "execution_count": 10,
   "metadata": {},
   "outputs": [],
   "source": [
    "# También es posible definir listas de listas para tener estructuras similares a matrices.\n",
    "\n",
    "c = [ [1,2], [3,4] ]    # Es equivalente a tener una matriz de 2x2."
   ]
  },
  {
   "cell_type": "code",
   "execution_count": 11,
   "metadata": {},
   "outputs": [
    {
     "data": {
      "text/plain": [
       "1"
      ]
     },
     "execution_count": 11,
     "metadata": {},
     "output_type": "execute_result"
    }
   ],
   "source": [
    "# Para acceder a sus los elementos, por tratarse de una lista de listas, se deben usar dos indirecciones.\n",
    "\n",
    "c[0][0]\n",
    "\n",
    "# c[0,0]   Usar directamente las coordenadas como índices sería más natural, pero con este tipo no es posible."
   ]
  },
  {
   "cell_type": "code",
   "execution_count": 12,
   "metadata": {},
   "outputs": [
    {
     "name": "stdout",
     "output_type": "stream",
     "text": [
      "range(0, 5) [0, 1, 2, 3, 4]\n",
      "[3, 5, 7, 9]\n",
      "[3, 5, 7, 9]\n"
     ]
    }
   ],
   "source": [
    "# También es posible generar listas de otras formas más dinámicas, por ejemplo usando \"range\" o por \"comprehension\".\n",
    "\n",
    "a = range(5)                         # Rango de 5 elementos, enteros del 0 al 4. Es necesario convertirlo a lista.\n",
    "b = list(range(3,10,2))              # Lista de 3 a 10 (no incluido) con incremento 2.\n",
    "c = [ x*2+1 for x in range(1,5) ]    # Defino que elementos tiene la lista iterando sobre el range.\n",
    "\n",
    "print( a, list(a))\n",
    "print( b)\n",
    "print( c)"
   ]
  },
  {
   "cell_type": "code",
   "execution_count": 13,
   "metadata": {},
   "outputs": [
    {
     "data": {
      "text/plain": [
       "[5]"
      ]
     },
     "execution_count": 13,
     "metadata": {},
     "output_type": "execute_result"
    }
   ],
   "source": [
    "# También es posible acceder a porciones de los elementos de una lista usando la técnica de \"slice\".\n",
    "# Esta permite indicar un intervalo de valores.\n",
    "\n",
    "b[1:2]   # La notación indica acceder a los elementos desde la posición 1 incluida hasta antes de la posición 2,"
   ]
  },
  {
   "cell_type": "code",
   "execution_count": 14,
   "metadata": {},
   "outputs": [
    {
     "data": {
      "text/plain": [
       "[5, 7, 9]"
      ]
     },
     "execution_count": 14,
     "metadata": {},
     "output_type": "execute_result"
    }
   ],
   "source": [
    "b[1:]    # ...los elementos desde la posición 1 hasta el final,"
   ]
  },
  {
   "cell_type": "code",
   "execution_count": 15,
   "metadata": {},
   "outputs": [
    {
     "data": {
      "text/plain": [
       "[3, 5]"
      ]
     },
     "execution_count": 15,
     "metadata": {},
     "output_type": "execute_result"
    }
   ],
   "source": [
    "b[:2]    # ...los elementos desde el comienzo hasta antes de la posición 2,"
   ]
  },
  {
   "cell_type": "code",
   "execution_count": 16,
   "metadata": {},
   "outputs": [
    {
     "data": {
      "text/plain": [
       "[9]"
      ]
     },
     "execution_count": 16,
     "metadata": {},
     "output_type": "execute_result"
    }
   ],
   "source": [
    "b[-1:]   # Y usando índices negativos también es posible contar desde el final, -1 para indicar el último elemento."
   ]
  },
  {
   "cell_type": "code",
   "execution_count": 17,
   "metadata": {},
   "outputs": [
    {
     "data": {
      "text/plain": [
       "[3, 7]"
      ]
     },
     "execution_count": 17,
     "metadata": {},
     "output_type": "execute_result"
    }
   ],
   "source": [
    "b[::2]   # Todos los elementos, de a 2."
   ]
  },
  {
   "cell_type": "code",
   "execution_count": 18,
   "metadata": {},
   "outputs": [
    {
     "data": {
      "text/plain": [
       "[3, 1, 2, 9]"
      ]
     },
     "execution_count": 18,
     "metadata": {},
     "output_type": "execute_result"
    }
   ],
   "source": [
    "c[1:3] = [1,2]   # También es posible asignar valores a un intervalo.\n",
    "c"
   ]
  },
  {
   "cell_type": "markdown",
   "metadata": {},
   "source": [
    "## NumPy\n",
    "\n",
    "El tipo lista nos servirá de base para muchas cosas, sin embargo no cuentan con operaciones algebraicas propias y tener que implementarlas a mano probablemente no resultaría muy práctico. Afortunadamente ya existe una librería que hace todo esto.\n",
    "\n",
    "**Numpy** tiene dos tipos de datos básicos que pueden ser usados para estos fines, el tipo *array* y el tipo *matrix*, que es derivado de *array*.  Desafortunadamente el tipo *array* es quizás demasiado permisivo con las operaciones que considera válidas, y el tipo *matrix*, por el contrario, es demasiado restrictivo. \n",
    "Por lo tanto vamos a ver cómo podemos usar el tipo *array* para hacer las operaciones necesarias sin arriesgarnos demasiado a introducir alguna operación incorrecta sin darnos cuenta."
   ]
  },
  {
   "cell_type": "code",
   "execution_count": 19,
   "metadata": {},
   "outputs": [],
   "source": [
    "import numpy as num\n",
    "\n",
    "# En muchos lugares van a ver que en lugar de \"num\" usan \"np\".\n",
    "# Pueden usar lo que les resulte más cómodo. (ver 'import this')"
   ]
  },
  {
   "cell_type": "code",
   "execution_count": 20,
   "metadata": {},
   "outputs": [
    {
     "data": {
      "text/plain": [
       "(array([5, 7]),\n",
       " array([0., 0.]),\n",
       " array([[0., 0., 0.]]),\n",
       " array([[1., 1.],\n",
       "        [1., 1.],\n",
       "        [1., 1.]]))"
      ]
     },
     "execution_count": 20,
     "metadata": {},
     "output_type": "execute_result"
    }
   ],
   "source": [
    "# Existen varias operaciones para crear nuevos arreglos.\n",
    "# array: toma una lista de valores numéricos como parámetros y crea el arreglo con esos elementos. \n",
    "# zeros y ones: toman como parámetro la dimensión y crea un arreglo de ceros o unos respectivamente.\n",
    "\n",
    "a = num.array([5,7])   # vector con los elementos  < 5, 7 >\n",
    "u = num.zeros(2)       # vector con ceros de dimensión 2.\n",
    "v = num.zeros((1, 3))  # matriz con ceros de dimensión 1 por 3.\n",
    "m = num.ones((3,2))    # matriz con unos de dimensión 3 por 2.\n",
    "\n",
    "a, u, v, m"
   ]
  },
  {
   "cell_type": "code",
   "execution_count": 21,
   "metadata": {},
   "outputs": [
    {
     "name": "stdout",
     "output_type": "stream",
     "text": [
      "2\n",
      "3\n",
      "6\n"
     ]
    }
   ],
   "source": [
    "# El método size nos permite saber la cantidad de elementos que tiene el arreglo.\n",
    "\n",
    "print( u.size)\n",
    "print( v.size)\n",
    "print( m.size)"
   ]
  },
  {
   "cell_type": "code",
   "execution_count": 22,
   "metadata": {},
   "outputs": [
    {
     "name": "stdout",
     "output_type": "stream",
     "text": [
      "(2,)\n",
      "(1, 3)\n",
      "(3, 2)\n"
     ]
    }
   ],
   "source": [
    "# El método shape nos permite saber que dimensiones tiene el arreglo.\n",
    "# Notar que u está definido como un vector de 2 valores, y que v está definido como una matriz de una sola fila.\n",
    "\n",
    "print( u.shape)\n",
    "print( v.shape)\n",
    "print( m.shape)"
   ]
  },
  {
   "cell_type": "code",
   "execution_count": 23,
   "metadata": {},
   "outputs": [
    {
     "name": "stdout",
     "output_type": "stream",
     "text": [
      "0.0\n",
      "[0. 0. 0.]\n"
     ]
    }
   ],
   "source": [
    "# Es posible acceder a los elementos del arreglo de forma similar a los de una lista.\n",
    "print( u[0])\n",
    "print( v[0])"
   ]
  },
  {
   "cell_type": "code",
   "execution_count": 24,
   "metadata": {},
   "outputs": [
    {
     "name": "stdout",
     "output_type": "stream",
     "text": [
      "0.0\n",
      "0.0\n"
     ]
    }
   ],
   "source": [
    "# Pero ahora además es válido usar las coordenadas como índices.\n",
    "print( v[0][0])\n",
    "print( v[0,0])"
   ]
  },
  {
   "cell_type": "code",
   "execution_count": 25,
   "metadata": {},
   "outputs": [
    {
     "name": "stdout",
     "output_type": "stream",
     "text": [
      "[[2. 3. 4.]]\n",
      "[2. 2.]\n",
      "[[3. 3. 3.]]\n"
     ]
    }
   ],
   "source": [
    "# La asignación de elementos también puede hacerse indicando rangos. \n",
    "# Al usar solo ':' se está indicando desde el comienzo hasta el fin, es decir, todos los elementos. \n",
    "# Notar que también es posible asignar un escalar a todos los elementos del arreglo.\n",
    "\n",
    "v[:] = [2, 3, 4]\n",
    "print( v)\n",
    "\n",
    "u[:] = 2\n",
    "print( u)\n",
    "\n",
    "v[:] = 3\n",
    "print( v)"
   ]
  },
  {
   "cell_type": "code",
   "execution_count": 26,
   "metadata": {},
   "outputs": [
    {
     "data": {
      "text/plain": [
       "array([4., 4., 4.])"
      ]
     },
     "execution_count": 26,
     "metadata": {},
     "output_type": "execute_result"
    }
   ],
   "source": [
    "# Dentro de numpy existen varios tipos de productos entre arreglos.\n",
    "# Vamos a usar principalmente el producto interno, o 'dot product'.\n",
    "\n",
    "m.dot( u)\n",
    "num.dot( m, u)   # Las dos formas son equivalentes."
   ]
  },
  {
   "cell_type": "code",
   "execution_count": 27,
   "metadata": {},
   "outputs": [
    {
     "data": {
      "text/plain": [
       "array([[9., 9.]])"
      ]
     },
     "execution_count": 27,
     "metadata": {},
     "output_type": "execute_result"
    }
   ],
   "source": [
    "# Por lo general vamos a considerar a matrices de una fila como vectores.\n",
    "# Y vamos a calcular el producto interno entre este tipo de vector y una matriz.\n",
    "\n",
    "num.dot( v, m)"
   ]
  },
  {
   "cell_type": "code",
   "execution_count": 28,
   "metadata": {},
   "outputs": [
    {
     "data": {
      "text/plain": [
       "array([-2.,  6.])"
      ]
     },
     "execution_count": 28,
     "metadata": {},
     "output_type": "execute_result"
    }
   ],
   "source": [
    "# El producto con '*' hace una multiplicación elemento a elemento.\n",
    "\n",
    "num.array([-1,3])*u"
   ]
  },
  {
   "cell_type": "code",
   "execution_count": 29,
   "metadata": {},
   "outputs": [
    {
     "data": {
      "text/plain": [
       "array([[2., 2.],\n",
       "       [2., 2.],\n",
       "       [2., 2.]])"
      ]
     },
     "execution_count": 29,
     "metadata": {},
     "output_type": "execute_result"
    }
   ],
   "source": [
    "# Entre un vector y una matriz hace la operación para cada fila si las dimensiones son correctas.\n",
    "\n",
    "u*m"
   ]
  },
  {
   "cell_type": "code",
   "execution_count": 30,
   "metadata": {},
   "outputs": [
    {
     "ename": "ValueError",
     "evalue": "operands could not be broadcast together with shapes (3,2) (1,3) ",
     "output_type": "error",
     "traceback": [
      "\u001b[0;31m---------------------------------------------------------------------------\u001b[0m",
      "\u001b[0;31mValueError\u001b[0m                                Traceback (most recent call last)",
      "\u001b[0;32m<ipython-input-30-fb721b7a93a9>\u001b[0m in \u001b[0;36m<module>\u001b[0;34m\u001b[0m\n\u001b[1;32m      1\u001b[0m \u001b[0;31m# Una ventaja de usar matrices de una fila es obtener advertencias tempranas de posibles operaciones incorrectas.\u001b[0m\u001b[0;34m\u001b[0m\u001b[0;34m\u001b[0m\u001b[0;34m\u001b[0m\u001b[0m\n\u001b[1;32m      2\u001b[0m \u001b[0;34m\u001b[0m\u001b[0m\n\u001b[0;32m----> 3\u001b[0;31m \u001b[0mm\u001b[0m\u001b[0;34m*\u001b[0m\u001b[0mv\u001b[0m\u001b[0;34m\u001b[0m\u001b[0;34m\u001b[0m\u001b[0m\n\u001b[0m",
      "\u001b[0;31mValueError\u001b[0m: operands could not be broadcast together with shapes (3,2) (1,3) "
     ]
    }
   ],
   "source": [
    "# Una ventaja de usar matrices de una fila es obtener advertencias tempranas de posibles operaciones incorrectas.\n",
    "\n",
    "m*v"
   ]
  },
  {
   "cell_type": "code",
   "execution_count": 31,
   "metadata": {},
   "outputs": [
    {
     "data": {
      "text/plain": [
       "array([[3., 3.],\n",
       "       [3., 3.],\n",
       "       [3., 3.]])"
      ]
     },
     "execution_count": 31,
     "metadata": {},
     "output_type": "execute_result"
    }
   ],
   "source": [
    "# Además con el operador 'T' es posible realizar una transposición.\n",
    "\n",
    "m*v.T"
   ]
  },
  {
   "cell_type": "code",
   "execution_count": 32,
   "metadata": {},
   "outputs": [
    {
     "name": "stdout",
     "output_type": "stream",
     "text": [
      "(2,) True\n",
      "(1, 3) False\n"
     ]
    }
   ],
   "source": [
    "# Notar que el operador 'T' no tiene efecto sobre vectores y no produce ninguna advertencia.\n",
    "\n",
    "print( u.shape, u.T.shape == u.shape)\n",
    "print( v.shape, v.T.shape == v.shape)\n"
   ]
  },
  {
   "cell_type": "code",
   "execution_count": 33,
   "metadata": {},
   "outputs": [
    {
     "data": {
      "text/plain": [
       "array([[2.],\n",
       "       [2.]])"
      ]
     },
     "execution_count": 33,
     "metadata": {},
     "output_type": "execute_result"
    }
   ],
   "source": [
    "# Si tenemos un vector es posible convertirlo a una matriz fila con 'reshape'.\n",
    "\n",
    "u.reshape((2,1))"
   ]
  },
  {
   "cell_type": "markdown",
   "metadata": {},
   "source": [
    "Para profundizar más en el tema pueden ver la documentación de otras operaciones como *inner*, *outer*, *prod*, y *multiply*.\n",
    "\n",
    "Para el cambio de dimensión de un arreglo ver *flatten*, y las diferencias entre *num.resize* vs *{obj}.resize*."
   ]
  },
  {
   "cell_type": "markdown",
   "metadata": {},
   "source": [
    "## Condicionales\n",
    "\n",
    "Otra de las ventajas que brinda **numpy** es la facilidad de chequear condiciones simultáneamente sobre todos los elementos de un arreglo. Para esto es posible usar la función *where* o varios condicionales."
   ]
  },
  {
   "cell_type": "code",
   "execution_count": 34,
   "metadata": {},
   "outputs": [
    {
     "data": {
      "text/plain": [
       "array([-5, -5, 10])"
      ]
     },
     "execution_count": 34,
     "metadata": {},
     "output_type": "execute_result"
    }
   ],
   "source": [
    "# Con where se pasan como parámetros la condición a chequear y...\n",
    "# los valores a devolver en un nuevo arreglo en caso de que sea verdadera o falsa.\n",
    "\n",
    "y = num.array([ -1, 0, 1])\n",
    "num.where( y>0, +10, -5)"
   ]
  },
  {
   "cell_type": "code",
   "execution_count": 35,
   "metadata": {},
   "outputs": [
    {
     "data": {
      "text/plain": [
       "array([False, False,  True])"
      ]
     },
     "execution_count": 35,
     "metadata": {},
     "output_type": "execute_result"
    }
   ],
   "source": [
    "# También es posible usar directamente un condicional y la matriz resultante será booleana.\n",
    "\n",
    "(y>0)"
   ]
  },
  {
   "cell_type": "code",
   "execution_count": 36,
   "metadata": {},
   "outputs": [
    {
     "data": {
      "text/plain": [
       "array([0, 0, 1])"
      ]
     },
     "execution_count": 36,
     "metadata": {},
     "output_type": "execute_result"
    }
   ],
   "source": [
    "# Los tipos booleanos pueden ser interpretados como numéricos.\n",
    "\n",
    "(y>0)*1"
   ]
  },
  {
   "cell_type": "code",
   "execution_count": 37,
   "metadata": {},
   "outputs": [
    {
     "data": {
      "text/plain": [
       "True"
      ]
     },
     "execution_count": 37,
     "metadata": {},
     "output_type": "execute_result"
    }
   ],
   "source": [
    "# Con 'any' y 'all' es posible chequear si una condición se cumple para alguno o todos los elementos del arreglo.\n",
    "\n",
    "num.any(y>0)"
   ]
  },
  {
   "cell_type": "markdown",
   "metadata": {},
   "source": [
    "## Distribuciones aleatorias\n",
    "\n",
    "Otra de las facilidades de la librería que vamos a aprovechar es la capacidad para trabajar con valores aleatorios y otras operaciones relacionadas con probabilidades y estadísticas."
   ]
  },
  {
   "cell_type": "code",
   "execution_count": 38,
   "metadata": {},
   "outputs": [
    {
     "name": "stdout",
     "output_type": "stream",
     "text": [
      "[[ 0.89219363  0.74644275 -0.93916359  0.10516483 -0.38991002 -0.26041266]]\n",
      "[[ 1.23248744 -0.10980729  1.27069256]\n",
      " [-1.10291272 -0.69041829 -0.67508381]\n",
      " [-0.78405066  0.31298303  0.27941762]\n",
      " [ 0.25349747 -0.40921531 -0.09456262]\n",
      " [ 0.81048756  2.07723983  0.69725355]\n",
      " [-0.83008356  0.57854143  2.28338657]]\n"
     ]
    }
   ],
   "source": [
    "# Dentro del módulo 'random' contamos con 'uniform' y 'normal' para generar valores con estas distribuciones.\n",
    "# Los primeros parámetros son los propios de la distribución y el último son las dimensiones del arreglo que generará.\n",
    "\n",
    "x = num.random.uniform( -1, 1, (1,6))\n",
    "w = num.random.normal( 0, 1, (6,3))\n",
    "\n",
    "print( x)\n",
    "print( w)"
   ]
  },
  {
   "cell_type": "code",
   "execution_count": 39,
   "metadata": {},
   "outputs": [
    {
     "name": "stdout",
     "output_type": "stream",
     "text": [
      "[[ 0.93951414 -1.91090055 -0.50906004]]\n"
     ]
    }
   ],
   "source": [
    "# Esto nos va a servir para inicializar los parámetros de los modelos, y en algunos casos para generar datos de prueba.\n",
    "\n",
    "# Por ejemplo si consideramos que x son datos de entrada y w son los parámetros de nuestro modelo...\n",
    "# podemos generar una respuesta usando 'dot' y guardando el resultado en la fila 'y'...\n",
    "# usando la asignación con '[:]' para asegurarnos que el resultado de la operación e 'y' tienen las mismas dimensiones.\n",
    "\n",
    "y = num.zeros((1,3))\n",
    "\n",
    "y[:] = num.dot( x, w)\n",
    "print( y)"
   ]
  },
  {
   "cell_type": "markdown",
   "metadata": {},
   "source": [
    "Otras operaciones que puede resultar útiles son:\n",
    "\n",
    "sum, mean, std | min, max | argmin, argmax\n",
    "\n",
    "num.random. choice | sample | shuffle | permutation\n"
   ]
  },
  {
   "cell_type": "markdown",
   "metadata": {},
   "source": [
    "## Gráfico de funciones\n",
    "\n",
    "Finalmente, en algunas ocasiones, vamos a necesitar ver algunos resultados o características de los datos en una forma más gráfica para poder apreciar cosas que un simple *print* no nos permitiría.\n",
    "\n",
    "Para esto vamos a utilizar otra librería llamada *matplotlib* que cuenta con muchas opciones y variantes de tipos de gráficos. Pero nosotros podemos limitarnos al módulo *pyplot* que importaremos con el nombre *mpl*."
   ]
  },
  {
   "cell_type": "code",
   "execution_count": 40,
   "metadata": {},
   "outputs": [],
   "source": [
    "from matplotlib import pyplot as mpl\n"
   ]
  },
  {
   "cell_type": "code",
   "execution_count": 41,
   "metadata": {},
   "outputs": [
    {
     "data": {
      "image/png": "[encoded data removed]",
      "text/plain": [
       "<Figure size 432x288 with 1 Axes>"
      ]
     },
     "metadata": {
      "needs_background": "light"
     },
     "output_type": "display_data"
    }
   ],
   "source": [
    "# En este ejemplo 'linspace' genera un arreglo de 100 valores igualmente distribuídos en el internvalo 0 y 2*pi.\n",
    "# Y la función 'sin' de numpy es aplicada a todos los elementos de ese arreglo.\n",
    "\n",
    "x = num.linspace( 0, 2*num.pi, 100)\n",
    "y = num.sin( x)\n",
    "\n",
    "g = mpl.plot( x, y)\n",
    "mpl.show()"
   ]
  },
  {
   "cell_type": "code",
   "execution_count": 42,
   "metadata": {},
   "outputs": [
    {
     "data": {
      "image/png": "[encoded data removed]",
      "text/plain": [
       "<Figure size 576x288 with 1 Axes>"
      ]
     },
     "metadata": {
      "needs_background": "light"
     },
     "output_type": "display_data"
    }
   ],
   "source": [
    "# Otra función útil es 'matshow' que sirve para representar gráficamente los valores de las matrices.\n",
    "\n",
    "m = num.random.uniform( -10, 5, (3,6))\n",
    "mpl.matshow( m)\n",
    "mpl.show()"
   ]
  }
 ],
 "metadata": {
  "kernelspec": {
   "display_name": "Python 3",
   "language": "python",
   "name": "python3"
  },
  "language_info": {
   "codemirror_mode": {
    "name": "ipython",
    "version": 3
   },
   "file_extension": ".py",
   "mimetype": "text/x-python",
   "name": "python",
   "nbconvert_exporter": "python",
   "pygments_lexer": "ipython3",
   "version": "3.8.2"
  }
 },
 "nbformat": 4,
 "nbformat_minor": 4
}
